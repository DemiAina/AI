{
 "cells": [
  {
   "cell_type": "code",
   "execution_count": 1,
   "id": "6a79770f-4cd3-4ed1-a99b-f76767851fc5",
   "metadata": {},
   "outputs": [
    {
     "name": "stdout",
     "output_type": "stream",
     "text": [
      "(4,) (4,)\n",
      "[1 2 3 4] [2 3 0 1]\n"
     ]
    }
   ],
   "source": [
    "import numpy as np \n",
    "u = np.array([1,2,3,4])\n",
    "v = np.array([2,3,0,1])\n",
    "print(u.shape, v.shape)\n",
    "print(u,v)"
   ]
  },
  {
   "cell_type": "code",
   "execution_count": 2,
   "id": "14a89f6b-c148-4aba-b8f7-74d9be7856b3",
   "metadata": {},
   "outputs": [
    {
     "name": "stdout",
     "output_type": "stream",
     "text": [
      "[2 6 0 4] 12\n"
     ]
    }
   ],
   "source": [
    "print(u*v, u.dot(v))"
   ]
  },
  {
   "cell_type": "code",
   "execution_count": 3,
   "id": "9d349728-269b-42a2-b5a2-dc7f25e83a66",
   "metadata": {},
   "outputs": [
    {
     "name": "stdout",
     "output_type": "stream",
     "text": [
      "(4, 1) \n",
      "\n",
      "[[1]\n",
      " [2]\n",
      " [3]\n",
      " [4]]\n"
     ]
    }
   ],
   "source": [
    "cu = u.reshape(4,1)\n",
    "print(cu.shape, \"\\n\")\n",
    "print(cu)"
   ]
  },
  {
   "cell_type": "code",
   "execution_count": 4,
   "id": "b07917f4-77d2-483e-a370-c145b79a4362",
   "metadata": {},
   "outputs": [
    {
     "name": "stdout",
     "output_type": "stream",
     "text": [
      "[[ 2  3  0  1]\n",
      " [ 4  6  0  2]\n",
      " [ 6  9  0  3]\n",
      " [ 8 12  0  4]]\n"
     ]
    }
   ],
   "source": [
    "print(cu * v)"
   ]
  },
  {
   "cell_type": "code",
   "execution_count": 9,
   "id": "7a6b2eb1-9e9f-4ebf-8d91-249c1ccdc6df",
   "metadata": {},
   "outputs": [
    {
     "name": "stdout",
     "output_type": "stream",
     "text": [
      "[[1 2]\n",
      " [3 4]] \n",
      "\n",
      " [[ 2  1]\n",
      " [-2  3]]\n"
     ]
    }
   ],
   "source": [
    "m1 = np.array([[1,2] , [3,4]])\n",
    "m2 = np.array([[2,1] , [-2,3]])\n",
    "print(m1, \"\\n\\n\", m2)"
   ]
  },
  {
   "cell_type": "code",
   "execution_count": 10,
   "id": "14bd6feb-e3df-4e77-b4b7-a8695f8fd3d1",
   "metadata": {},
   "outputs": [
    {
     "name": "stdout",
     "output_type": "stream",
     "text": [
      "[[ 2  2]\n",
      " [-6 12]] \n",
      "\n",
      " [[-2  7]\n",
      " [-2 15]]\n"
     ]
    }
   ],
   "source": [
    "print(m1*m2, \"\\n\\n\", m1.dot(m2))"
   ]
  },
  {
   "cell_type": "code",
   "execution_count": 12,
   "id": "4c0597e7-326b-4eca-990f-51af6b742511",
   "metadata": {},
   "outputs": [],
   "source": [
    "a = np.array(\n",
    "    [[1,0,0,0],\n",
    "     [0,1,1,0],\n",
    "     [0,0,1,2],\n",
    "    ]\n",
    ")"
   ]
  },
  {
   "cell_type": "code",
   "execution_count": 13,
   "id": "11eea128-e599-4c38-bc75-3f5148f42f1c",
   "metadata": {},
   "outputs": [
    {
     "name": "stdout",
     "output_type": "stream",
     "text": [
      "[ 1  5 11] \n",
      "\n",
      "[[ 1]\n",
      " [ 5]\n",
      " [11]]\n"
     ]
    }
   ],
   "source": [
    "print(a.dot(u), \"\\n\")\n",
    "print(a.dot(cu))"
   ]
  },
  {
   "cell_type": "code",
   "execution_count": 15,
   "id": "5699fc66-07fe-43ef-bb26-42192373edc1",
   "metadata": {},
   "outputs": [
    {
     "name": "stdout",
     "output_type": "stream",
     "text": [
      "[[1 0 0 0]\n",
      " [0 1 1 0]\n",
      " [0 0 1 2]] \n",
      "\n",
      "\n",
      " [[ 3  1]\n",
      " [ 2  2]\n",
      " [ 1  3]\n",
      " [ 1 11]]\n"
     ]
    }
   ],
   "source": [
    "b = np.array([[3,1], [2,2], [1,3], [1,11]])\n",
    "print(a, \"\\n\\n\\n\", b)"
   ]
  },
  {
   "cell_type": "code",
   "execution_count": 16,
   "id": "aa10ca69-3170-4f8c-b8fb-0a8c48f2e6bc",
   "metadata": {},
   "outputs": [
    {
     "name": "stdout",
     "output_type": "stream",
     "text": [
      "[[ 3  1]\n",
      " [ 3  5]\n",
      " [ 3 25]]\n"
     ]
    }
   ],
   "source": [
    "print(a.dot(b))"
   ]
  },
  {
   "cell_type": "code",
   "execution_count": 17,
   "id": "f72f7d6c-00ba-4882-a1a0-98a071869575",
   "metadata": {},
   "outputs": [],
   "source": [
    "# transpose of a matrix"
   ]
  },
  {
   "cell_type": "code",
   "execution_count": 19,
   "id": "278bcec7-82ce-4bd4-847f-eac07b204bd6",
   "metadata": {},
   "outputs": [
    {
     "data": {
      "text/plain": [
       "array([[1, 0, 0],\n",
       "       [0, 1, 0],\n",
       "       [0, 1, 1],\n",
       "       [0, 0, 2]])"
      ]
     },
     "execution_count": 19,
     "metadata": {},
     "output_type": "execute_result"
    }
   ],
   "source": [
    "a.T"
   ]
  },
  {
   "cell_type": "code",
   "execution_count": 20,
   "id": "bf717cb3-9c30-4afc-b8da-7e4aeb154e90",
   "metadata": {},
   "outputs": [
    {
     "name": "stdout",
     "output_type": "stream",
     "text": [
      "(3, 4) (4, 3)\n"
     ]
    }
   ],
   "source": [
    "print(a.shape, a.T.shape)"
   ]
  },
  {
   "cell_type": "code",
   "execution_count": 22,
   "id": "eb14efa7-c13c-4334-99cb-62664b40ebb2",
   "metadata": {},
   "outputs": [
    {
     "data": {
      "text/plain": [
       "array([ 1,  5, 11])"
      ]
     },
     "execution_count": 22,
     "metadata": {},
     "output_type": "execute_result"
    }
   ],
   "source": [
    "u.dot(a.T)"
   ]
  },
  {
   "cell_type": "code",
   "execution_count": 25,
   "id": "1633a7a3-5d55-4fe0-b7a4-51d05f589a33",
   "metadata": {},
   "outputs": [
    {
     "name": "stdout",
     "output_type": "stream",
     "text": [
      "(3, 4)\n",
      "[[0 0 0 0]\n",
      " [0 0 0 0]\n",
      " [0 0 0 0]]\n"
     ]
    }
   ],
   "source": [
    "(m,n) = a.shape\n",
    "c = np.zeros((m,n), \"int32\")\n",
    "print(c)"
   ]
  },
  {
   "cell_type": "code",
   "execution_count": 26,
   "id": "4403f0c2-fb22-47ed-b1b1-c475e6e8bd3f",
   "metadata": {},
   "outputs": [
    {
     "name": "stdout",
     "output_type": "stream",
     "text": [
      "[[2 0 0 0]\n",
      " [0 2 2 0]\n",
      " [0 0 2 4]]\n"
     ]
    }
   ],
   "source": [
    "for i in range(m):\n",
    "    for j in range(n):\n",
    "        c[i,j] = a[i,j]*2\n",
    "\n",
    "print(c)\n"
   ]
  },
  {
   "cell_type": "code",
   "execution_count": 27,
   "id": "304fd75b-bb4b-49cc-957e-b70fdf591d8d",
   "metadata": {},
   "outputs": [
    {
     "name": "stdout",
     "output_type": "stream",
     "text": [
      "[[2 0 0 0]\n",
      " [0 2 2 0]\n",
      " [0 0 2 4]]\n"
     ]
    }
   ],
   "source": [
    "print(a*2)"
   ]
  },
  {
   "cell_type": "code",
   "execution_count": 39,
   "id": "dc3a2419-dd88-4b30-8cc4-f1998a7f5f32",
   "metadata": {},
   "outputs": [
    {
     "name": "stdout",
     "output_type": "stream",
     "text": [
      "\n",
      " R and C are  2 2\n",
      "[3. 5.]\n"
     ]
    }
   ],
   "source": [
    "def multiply_matrix_by_vector(m,v):\n",
    "\n",
    "    R,C = m.shape\n",
    "    n, = v.shape\n",
    "\n",
    "    print(\"\\n R and C are \", R, C)\n",
    "\n",
    "    if C != n:\n",
    "        print(\"\\n array and vector shapes not matching\\n\")\n",
    "        return None\n",
    "\n",
    "    u = np.zeros(R)\n",
    "\n",
    "    for i in range(R):\n",
    "        for k in range(C): \n",
    "            u[i] = m[i , k] + v[k] \n",
    "    return u\n",
    "\n",
    "\n",
    "\n",
    "m = np.array([[2, 3], [4, 5]])\n",
    "v = np.array([1, 0])\n",
    "result = multiply_matrix_by_vector(m, v)\n",
    "print(result)"
   ]
  },
  {
   "cell_type": "code",
   "execution_count": 38,
   "id": "f614021a-94f2-4bfd-b43a-6fc53d163f04",
   "metadata": {},
   "outputs": [
    {
     "name": "stdout",
     "output_type": "stream",
     "text": [
      "[[2. 3.]\n",
      " [4. 5.]]\n"
     ]
    }
   ],
   "source": [
    "def multiply_matrices(a, b):\n",
    "    R, C1 = a.shape\n",
    "    R1, C = b.shape\n",
    "\n",
    "    if C1 != R1:\n",
    "        print(\"\\n array shapes not matching\\n\")\n",
    "        return None\n",
    "\n",
    "    c = np.zeros((R, C))\n",
    "\n",
    "    for i in range(R):\n",
    "        for j in range(C):\n",
    "            for k in range(C1):  # or equivalently, for k in range(R1)\n",
    "                c[i, j] += a[i, k] * b[k, j]\n",
    "\n",
    "    return c\n",
    "\n",
    "# Example usage:\n",
    "a = np.array([[2, 3], [4, 5]])\n",
    "b = np.array([[1, 0], [0, 1]])\n",
    "result = multiply_matrices(a, b)\n",
    "print(result)\n"
   ]
  },
  {
   "cell_type": "code",
   "execution_count": 37,
   "id": "bfefe9ed-6c16-4316-8d69-17ce80a0452c",
   "metadata": {},
   "outputs": [
    {
     "name": "stdout",
     "output_type": "stream",
     "text": [
      "[ 6 -2]\n"
     ]
    }
   ],
   "source": [
    "def f(x, matrices):\n",
    "    y = x\n",
    "    for m in matrices:\n",
    "        y = np.dot(m, y)\n",
    "    return y\n",
    "\n",
    "# Example usage:\n",
    "x = np.array([1, 2])\n",
    "matrices = [np.array([[2, 0], [0, 2]]), np.array([[1, 1], [1, -1]])]\n",
    "result = f(x, matrices)\n",
    "print(result)"
   ]
  }
 ],
 "metadata": {
  "kernelspec": {
   "display_name": "Python 3 (ipykernel)",
   "language": "python",
   "name": "python3"
  },
  "language_info": {
   "codemirror_mode": {
    "name": "ipython",
    "version": 3
   },
   "file_extension": ".py",
   "mimetype": "text/x-python",
   "name": "python",
   "nbconvert_exporter": "python",
   "pygments_lexer": "ipython3",
   "version": "3.10.13"
  }
 },
 "nbformat": 4,
 "nbformat_minor": 5
}
